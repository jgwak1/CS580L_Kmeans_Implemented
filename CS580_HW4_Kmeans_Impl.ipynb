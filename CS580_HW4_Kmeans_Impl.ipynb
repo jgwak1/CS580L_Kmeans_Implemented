{
 "cells": [
  {
   "cell_type": "code",
   "execution_count": 20,
   "metadata": {},
   "outputs": [],
   "source": [
    "import numpy as np\n",
    "import pandas as pd\n",
    "from plotnine import *\n",
    "\n",
    "from IPython.core.interactiveshell import InteractiveShell\n",
    "InteractiveShell.ast_node_interactivity = \"all\"\n",
    "import warnings\n",
    "warnings.filterwarnings(\"ignore\")"
   ]
  },
  {
   "cell_type": "code",
   "execution_count": 21,
   "metadata": {},
   "outputs": [],
   "source": [
    "def euclid_dist(coord1,coord2): # pass coordinates that are in form of a list\n",
    "    summ=0;\n",
    "    if (len(coord1)!=len(coord2)):\n",
    "        raise ValueError(\"error: dimension mismatch\")\n",
    "    for i in range(len(coord1)):\n",
    "        summ+=(coord1[i]-coord2[i])**2\n",
    "    return np.sqrt(summ) "
   ]
  },
  {
   "cell_type": "code",
   "execution_count": 22,
   "metadata": {},
   "outputs": [],
   "source": [
    "def K_Means_2D(input_df, K, centroids=False, plotonly=False): \n",
    "    \n",
    "    data = input_df.copy()\n",
    "    \n",
    "    if (len(data.columns) != 2):\n",
    "        raise ValueError(\"Error: input data should be 2-dimensional\")\n",
    "        \n",
    "    data.columns=['x','y']\n",
    "    \n",
    "    if (centroids==False): # If initial centroids are not explicitly specified,\n",
    "        centroids = data.sample(K, replace=False).values.tolist()# randomly pick K samples from input data\n",
    "    if (len(centroids) != K): \n",
    "                    raise ValueError(\"Error: Number of initial centroids must match K\")\n",
    "    \n",
    "    data_ls = data.values.tolist()\n",
    "    data[\"cluster\"] = np.nan # add a cluster column to data\n",
    "\n",
    "    if (plotonly==False):\n",
    "        print(\"\\niteration:\", 0)\n",
    "        print(\"centroids: \", centroids)\n",
    "        print(data)\n",
    "    \n",
    "    iteration = 1\n",
    "    prev_centroids = []\n",
    "    while (centroids != prev_centroids): # Iterate until centroids don't change\n",
    "        for i in range(len(data_ls)): \n",
    "                dist_ls=[]\n",
    "                for centr in centroids:\n",
    "                    dist_ls.append(euclid_dist(data_ls[i], centr)) # calculate euclid distance of data point and centroid\n",
    "                data.loc[i, \"cluster\"] = dist_ls.index(min(dist_ls))+1 # assign data point to the closest centroid \n",
    "                    \n",
    "        prev_centroids = centroids # save previous centroids (for comparison with updated centroids)\n",
    "        centroids = data.groupby(\"cluster\").mean().values.tolist()  # update(recompute) the centroid of each cluster\n",
    "        \n",
    "        # calculate SSE \n",
    "        SSE = 0\n",
    "        for clust_idx in range(1, len(centroids)+1): # For each data cluster\n",
    "            data_by_cluster= data[data.cluster==clust_idx].loc[:,data.columns!=\"cluster\"].values.tolist()\n",
    "            for coord in data_by_cluster: # For each data in a particular cluster\n",
    "                SSE+=(euclid_dist(coord,centroids[clust_idx-1]))**2 #\"Sum of Squared Error\"==\"Sum of Squared Euclid Dists\" \n",
    "            \n",
    "        # print the numerical results of updated centroids, data by cluster, SSE    \n",
    "        if (plotonly==False):\n",
    "            print(\"\\niteration:\", iteration); iteration+=1\n",
    "            print(\"centroids: \", centroids)\n",
    "            print(\"SSE:\", SSE) \n",
    "            print(data) \n",
    "        # print only the plot result\n",
    "        else:\n",
    "            print(\"\\niteration:\", iteration); iteration+=1\n",
    "            centroids_df = pd.DataFrame(centroids, columns=['x','y']); centroids_df['cluster']=0;\n",
    "            plot= ggplot(data)+aes(x ='x',y='y',color='cluster')+geom_point(size=4,show_legend=False)+\\\n",
    "                  geom_point(aes(x='x',y='y',color=\"cluster\"),data=centroids_df,shape=5,size=4,show_legend=False)+\\\n",
    "                  theme(\"none\") \n",
    "            print(plot)\n",
    "            \n",
    "    return data\n"
   ]
  },
  {
   "cell_type": "code",
   "execution_count": 23,
   "metadata": {},
   "outputs": [],
   "source": [
    "x = [1,1,2,2,3,4,5,6]\n",
    "y = [1,2,1,3,3,5,4,5]\n",
    "df = pd.DataFrame(list(zip(x, y)),columns =['x', 'y']) "
   ]
  },
  {
   "cell_type": "markdown",
   "metadata": {},
   "source": [
    "  "
   ]
  },
  {
   "cell_type": "markdown",
   "metadata": {},
   "source": [
    "  "
   ]
  },
  {
   "cell_type": "markdown",
   "metadata": {},
   "source": [
    "### Input data"
   ]
  },
  {
   "cell_type": "code",
   "execution_count": 24,
   "metadata": {},
   "outputs": [
    {
     "data": {
      "text/html": [
       "<div>\n",
       "<style scoped>\n",
       "    .dataframe tbody tr th:only-of-type {\n",
       "        vertical-align: middle;\n",
       "    }\n",
       "\n",
       "    .dataframe tbody tr th {\n",
       "        vertical-align: top;\n",
       "    }\n",
       "\n",
       "    .dataframe thead th {\n",
       "        text-align: right;\n",
       "    }\n",
       "</style>\n",
       "<table border=\"1\" class=\"dataframe\">\n",
       "  <thead>\n",
       "    <tr style=\"text-align: right;\">\n",
       "      <th></th>\n",
       "      <th>x</th>\n",
       "      <th>y</th>\n",
       "    </tr>\n",
       "  </thead>\n",
       "  <tbody>\n",
       "    <tr>\n",
       "      <th>0</th>\n",
       "      <td>1</td>\n",
       "      <td>1</td>\n",
       "    </tr>\n",
       "    <tr>\n",
       "      <th>1</th>\n",
       "      <td>1</td>\n",
       "      <td>2</td>\n",
       "    </tr>\n",
       "    <tr>\n",
       "      <th>2</th>\n",
       "      <td>2</td>\n",
       "      <td>1</td>\n",
       "    </tr>\n",
       "    <tr>\n",
       "      <th>3</th>\n",
       "      <td>2</td>\n",
       "      <td>3</td>\n",
       "    </tr>\n",
       "    <tr>\n",
       "      <th>4</th>\n",
       "      <td>3</td>\n",
       "      <td>3</td>\n",
       "    </tr>\n",
       "    <tr>\n",
       "      <th>5</th>\n",
       "      <td>4</td>\n",
       "      <td>5</td>\n",
       "    </tr>\n",
       "    <tr>\n",
       "      <th>6</th>\n",
       "      <td>5</td>\n",
       "      <td>4</td>\n",
       "    </tr>\n",
       "    <tr>\n",
       "      <th>7</th>\n",
       "      <td>6</td>\n",
       "      <td>5</td>\n",
       "    </tr>\n",
       "  </tbody>\n",
       "</table>\n",
       "</div>"
      ],
      "text/plain": [
       "   x  y\n",
       "0  1  1\n",
       "1  1  2\n",
       "2  2  1\n",
       "3  2  3\n",
       "4  3  3\n",
       "5  4  5\n",
       "6  5  4\n",
       "7  6  5"
      ]
     },
     "execution_count": 24,
     "metadata": {},
     "output_type": "execute_result"
    }
   ],
   "source": [
    "df"
   ]
  },
  {
   "cell_type": "markdown",
   "metadata": {},
   "source": [
    "### Numerical results"
   ]
  },
  {
   "cell_type": "code",
   "execution_count": 25,
   "metadata": {
    "scrolled": false
   },
   "outputs": [
    {
     "name": "stdout",
     "output_type": "stream",
     "text": [
      "\n",
      "iteration: 0\n",
      "centroids:  [[2, 3], [3, 3], [5, 4]]\n",
      "   x  y  cluster\n",
      "0  1  1      NaN\n",
      "1  1  2      NaN\n",
      "2  2  1      NaN\n",
      "3  2  3      NaN\n",
      "4  3  3      NaN\n",
      "5  4  5      NaN\n",
      "6  5  4      NaN\n",
      "7  6  5      NaN\n",
      "\n",
      "iteration: 1\n",
      "centroids:  [[1.5, 1.75], [3.0, 3.0], [5.0, 4.666666666666667]]\n",
      "SSE: 6.416666666666666\n",
      "   x  y  cluster\n",
      "0  1  1      1.0\n",
      "1  1  2      1.0\n",
      "2  2  1      1.0\n",
      "3  2  3      1.0\n",
      "4  3  3      2.0\n",
      "5  4  5      3.0\n",
      "6  5  4      3.0\n",
      "7  6  5      3.0\n",
      "\n",
      "iteration: 2\n",
      "centroids:  [[1.3333333333333333, 1.3333333333333333], [2.5, 3.0], [5.0, 4.666666666666667]]\n",
      "SSE: 4.499999999999999\n",
      "   x  y  cluster\n",
      "0  1  1      1.0\n",
      "1  1  2      1.0\n",
      "2  2  1      1.0\n",
      "3  2  3      2.0\n",
      "4  3  3      2.0\n",
      "5  4  5      3.0\n",
      "6  5  4      3.0\n",
      "7  6  5      3.0\n",
      "\n",
      "iteration: 3\n",
      "centroids:  [[1.3333333333333333, 1.3333333333333333], [2.5, 3.0], [5.0, 4.666666666666667]]\n",
      "SSE: 4.499999999999999\n",
      "   x  y  cluster\n",
      "0  1  1      1.0\n",
      "1  1  2      1.0\n",
      "2  2  1      1.0\n",
      "3  2  3      2.0\n",
      "4  3  3      2.0\n",
      "5  4  5      3.0\n",
      "6  5  4      3.0\n",
      "7  6  5      3.0\n"
     ]
    }
   ],
   "source": [
    "data = K_Means_2D(df, 3, [[2,3],[3,3],[5,4]], False)"
   ]
  },
  {
   "cell_type": "markdown",
   "metadata": {},
   "source": [
    "### Graphical Results"
   ]
  },
  {
   "cell_type": "code",
   "execution_count": 26,
   "metadata": {},
   "outputs": [
    {
     "name": "stdout",
     "output_type": "stream",
     "text": [
      "\n",
      "iteration: 1\n"
     ]
    },
    {
     "data": {
      "image/png": "[encoded data removed]",
      "text/plain": [
       "<Figure size 432x288 with 1 Axes>"
      ]
     },
     "metadata": {
      "needs_background": "light"
     },
     "output_type": "display_data"
    },
    {
     "name": "stdout",
     "output_type": "stream",
     "text": [
      "<ggplot: (88630252720)>\n",
      "\n",
      "iteration: 2\n"
     ]
    },
    {
     "data": {
      "image/png": "[encoded data removed]",
      "text/plain": [
       "<Figure size 432x288 with 1 Axes>"
      ]
     },
     "metadata": {
      "needs_background": "light"
     },
     "output_type": "display_data"
    },
    {
     "name": "stdout",
     "output_type": "stream",
     "text": [
      "<ggplot: (88629240275)>\n",
      "\n",
      "iteration: 3\n"
     ]
    },
    {
     "data": {
      "image/png": "[encoded data removed]",
      "text/plain": [
       "<Figure size 432x288 with 1 Axes>"
      ]
     },
     "metadata": {
      "needs_background": "light"
     },
     "output_type": "display_data"
    },
    {
     "name": "stdout",
     "output_type": "stream",
     "text": [
      "<ggplot: (-9223371948225521113)>\n"
     ]
    }
   ],
   "source": [
    "data = K_Means_2D(df, 3, [[2,3],[3,3],[5,4]], True)"
   ]
  }
 ],
 "metadata": {
  "kernelspec": {
   "display_name": "Python 3",
   "language": "python",
   "name": "python3"
  },
  "language_info": {
   "codemirror_mode": {
    "name": "ipython",
    "version": 3
   },
   "file_extension": ".py",
   "mimetype": "text/x-python",
   "name": "python",
   "nbconvert_exporter": "python",
   "pygments_lexer": "ipython3",
   "version": "3.7.3"
  }
 },
 "nbformat": 4,
 "nbformat_minor": 2
}
